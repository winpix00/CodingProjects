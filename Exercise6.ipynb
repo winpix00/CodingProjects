{
 "cells": [
  {
   "cell_type": "code",
   "execution_count": null,
   "id": "efe0e49c",
   "metadata": {},
   "outputs": [],
   "source": []
  }
 ],
 "metadata": {
  "kernelspec": {
   "display_name": "Python 3.9 (XPython)",
   "language": "python",
   "name": "xpython"
  }
 },
 "nbformat": 4,
 "nbformat_minor": 5
}
